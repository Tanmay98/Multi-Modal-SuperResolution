{
 "cells": [
  {
   "cell_type": "code",
   "execution_count": 1,
   "metadata": {},
   "outputs": [],
   "source": [
    "from transformers import AutoTokenizer, CLIPTextModel\n",
    "from tqdm import tqdm\n",
    "import torch"
   ]
  },
  {
   "cell_type": "code",
   "execution_count": 2,
   "metadata": {},
   "outputs": [],
   "source": [
    "device = \"cuda:3\" if torch.cuda.is_available() else \"cpu\""
   ]
  },
  {
   "cell_type": "markdown",
   "metadata": {},
   "source": [
    "Loading textual decsriptions produced by BLIP model for training set"
   ]
  },
  {
   "cell_type": "code",
   "execution_count": 3,
   "metadata": {},
   "outputs": [],
   "source": [
    "text_desc_train_file = open('/home/tbaweja/811/textual_descriptions_train.txt', 'r')\n",
    "text_desc_train = text_desc_train_file.readlines()"
   ]
  },
  {
   "cell_type": "code",
   "execution_count": 3,
   "metadata": {},
   "outputs": [],
   "source": [
    "text_desc_val_file = open('/home/tbaweja/811/textual_descriptions_val.txt', 'r')\n",
    "text_desc_val = text_desc_val_file.readlines()"
   ]
  },
  {
   "cell_type": "markdown",
   "metadata": {},
   "source": [
    "Loading pretrained encoder model of CLIP to produce textual embeddings"
   ]
  },
  {
   "cell_type": "code",
   "execution_count": 4,
   "metadata": {},
   "outputs": [],
   "source": [
    "model = CLIPTextModel.from_pretrained(\"openai/clip-vit-base-patch32\")\n",
    "tokenizer = AutoTokenizer.from_pretrained(\"openai/clip-vit-base-patch32\")"
   ]
  },
  {
   "cell_type": "code",
   "execution_count": 6,
   "metadata": {},
   "outputs": [],
   "source": [
    "import os\n",
    "if not(os.path.exists(\"./text_embeddings_train\")):\n",
    "    os.makedirs(\"./text_embeddings_train\")\n",
    "\n",
    "if not(os.path.exists(\"./text_embeddings_val\")):\n",
    "    os.makedirs(\"./text_embeddings_val\")\n",
    "    "
   ]
  },
  {
   "cell_type": "markdown",
   "metadata": {},
   "source": [
    "Saving textual embeddings in torch format"
   ]
  },
  {
   "cell_type": "code",
   "execution_count": 8,
   "metadata": {},
   "outputs": [
    {
     "name": "stderr",
     "output_type": "stream",
     "text": [
      "100%|██████████| 45000/45000 [24:50<00:00, 30.19it/s]\n"
     ]
    }
   ],
   "source": [
    "for i, desc in enumerate(tqdm(text_desc_train)):\n",
    "    inputs = tokenizer([text_desc_train[i]], padding=True, return_tensors=\"pt\")\n",
    "    outputs = model(**inputs)\n",
    "    last_hidden_state = outputs.last_hidden_state\n",
    "    pooled_output = outputs.pooler_output \n",
    "\n",
    "    torch.save(pooled_output, f'./text_embeddings_train/{i}.pt')"
   ]
  },
  {
   "cell_type": "code",
   "execution_count": 7,
   "metadata": {},
   "outputs": [
    {
     "name": "stderr",
     "output_type": "stream",
     "text": [
      "100%|██████████| 5000/5000 [02:31<00:00, 32.92it/s]\n"
     ]
    }
   ],
   "source": [
    "for i, desc in enumerate(tqdm(text_desc_val)):\n",
    "    inputs = tokenizer([text_desc_val[i]], padding=True, return_tensors=\"pt\")\n",
    "    outputs = model(**inputs)\n",
    "    last_hidden_state = outputs.last_hidden_state\n",
    "    pooled_output = outputs.pooler_output \n",
    "\n",
    "    torch.save(pooled_output, f'./text_embeddings_val/{i}.pt')"
   ]
  },
  {
   "cell_type": "code",
   "execution_count": null,
   "metadata": {},
   "outputs": [],
   "source": []
  }
 ],
 "metadata": {
  "kernelspec": {
   "display_name": "project",
   "language": "python",
   "name": "python3"
  },
  "language_info": {
   "codemirror_mode": {
    "name": "ipython",
    "version": 3
   },
   "file_extension": ".py",
   "mimetype": "text/x-python",
   "name": "python",
   "nbconvert_exporter": "python",
   "pygments_lexer": "ipython3",
   "version": "3.8.18"
  }
 },
 "nbformat": 4,
 "nbformat_minor": 2
}
